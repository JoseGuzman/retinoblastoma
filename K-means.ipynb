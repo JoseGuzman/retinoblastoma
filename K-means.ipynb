{
 "cells": [
  {
   "cell_type": "markdown",
   "metadata": {},
   "source": [
    "# K-means classification\n",
    "\n",
    "This notebook will [classify Y79 human retinoblastoma cells](https://www.wikidata.org/wiki/Q54995129) according to cell size and resting membrane potential. The classification will assign each observation to the clusters of observations nearest to a centroid (the center of mass of the distances in a circle)."
   ]
  },
  {
   "cell_type": "code",
   "execution_count": 1,
   "metadata": {},
   "outputs": [
    {
     "name": "stdout",
     "output_type": "stream",
     "text": [
      "Populating the interactive namespace from numpy and matplotlib\n"
     ]
    }
   ],
   "source": [
    "%pylab inline\n",
    "\n",
    "from matplotlib.pyplot import style\n",
    "import matplotlib.pyplot as plt\n",
    "\n",
    "# use custom plots from minibrain\n",
    "style.use('https://raw.githubusercontent.com/JoseGuzman/minibrain/master/minibrain/paper.mplstyle')\n",
    "\n",
    "import pandas as pd"
   ]
  },
  {
   "cell_type": "markdown",
   "metadata": {},
   "source": [
    "# Load data"
   ]
  },
  {
   "cell_type": "code",
   "execution_count": 2,
   "metadata": {},
   "outputs": [
    {
     "name": "stdout",
     "output_type": "stream",
     "text": [
      "95 observations\n"
     ]
    },
    {
     "data": {
      "text/html": [
       "<div>\n",
       "<style scoped>\n",
       "    .dataframe tbody tr th:only-of-type {\n",
       "        vertical-align: middle;\n",
       "    }\n",
       "\n",
       "    .dataframe tbody tr th {\n",
       "        vertical-align: top;\n",
       "    }\n",
       "\n",
       "    .dataframe thead th {\n",
       "        text-align: right;\n",
       "    }\n",
       "</style>\n",
       "<table border=\"1\" class=\"dataframe\">\n",
       "  <thead>\n",
       "    <tr style=\"text-align: right;\">\n",
       "      <th></th>\n",
       "      <th>diameter</th>\n",
       "      <th>Vmb</th>\n",
       "    </tr>\n",
       "    <tr>\n",
       "      <th>uid</th>\n",
       "      <th></th>\n",
       "      <th></th>\n",
       "    </tr>\n",
       "  </thead>\n",
       "  <tbody>\n",
       "    <tr>\n",
       "      <th>Y79_000</th>\n",
       "      <td>20.89430</td>\n",
       "      <td>-27.6512</td>\n",
       "    </tr>\n",
       "    <tr>\n",
       "      <th>Y79_001</th>\n",
       "      <td>16.85182</td>\n",
       "      <td>-24.8687</td>\n",
       "    </tr>\n",
       "    <tr>\n",
       "      <th>Y79_002</th>\n",
       "      <td>17.95220</td>\n",
       "      <td>-38.0629</td>\n",
       "    </tr>\n",
       "    <tr>\n",
       "      <th>Y79_003</th>\n",
       "      <td>15.81813</td>\n",
       "      <td>-12.6591</td>\n",
       "    </tr>\n",
       "    <tr>\n",
       "      <th>Y79_004</th>\n",
       "      <td>16.68500</td>\n",
       "      <td>-36.0233</td>\n",
       "    </tr>\n",
       "    <tr>\n",
       "      <th>...</th>\n",
       "      <td>...</td>\n",
       "      <td>...</td>\n",
       "    </tr>\n",
       "    <tr>\n",
       "      <th>Y79_090</th>\n",
       "      <td>19.86000</td>\n",
       "      <td>-16.1432</td>\n",
       "    </tr>\n",
       "    <tr>\n",
       "      <th>Y79_091</th>\n",
       "      <td>21.75000</td>\n",
       "      <td>-29.8170</td>\n",
       "    </tr>\n",
       "    <tr>\n",
       "      <th>Y79_092</th>\n",
       "      <td>16.14100</td>\n",
       "      <td>-27.6429</td>\n",
       "    </tr>\n",
       "    <tr>\n",
       "      <th>Y79_093</th>\n",
       "      <td>25.64000</td>\n",
       "      <td>-43.7864</td>\n",
       "    </tr>\n",
       "    <tr>\n",
       "      <th>Y79_094</th>\n",
       "      <td>48.64400</td>\n",
       "      <td>-54.0250</td>\n",
       "    </tr>\n",
       "  </tbody>\n",
       "</table>\n",
       "<p>95 rows × 2 columns</p>\n",
       "</div>"
      ],
      "text/plain": [
       "         diameter      Vmb\n",
       "uid                       \n",
       "Y79_000  20.89430 -27.6512\n",
       "Y79_001  16.85182 -24.8687\n",
       "Y79_002  17.95220 -38.0629\n",
       "Y79_003  15.81813 -12.6591\n",
       "Y79_004  16.68500 -36.0233\n",
       "...           ...      ...\n",
       "Y79_090  19.86000 -16.1432\n",
       "Y79_091  21.75000 -29.8170\n",
       "Y79_092  16.14100 -27.6429\n",
       "Y79_093  25.64000 -43.7864\n",
       "Y79_094  48.64400 -54.0250\n",
       "\n",
       "[95 rows x 2 columns]"
      ]
     },
     "execution_count": 2,
     "metadata": {},
     "output_type": "execute_result"
    }
   ],
   "source": [
    "mydata = pd.read_csv('./DataSets/Y79_data.csv', index_col='uid')\n",
    "print(f'{mydata.shape[0]} observations')\n",
    "mydata"
   ]
  },
  {
   "cell_type": "code",
   "execution_count": 3,
   "metadata": {},
   "outputs": [],
   "source": [
    "from scipy.stats import lognorm"
   ]
  },
  {
   "cell_type": "code",
   "execution_count": 4,
   "metadata": {},
   "outputs": [],
   "source": [
    "# Define gaussian mixture\n",
    "def gauss(x,mu,sigma,A):\n",
    "    \"\"\"\n",
    "    Solves the Gaussian function of the form:\n",
    "    f(x; mu, sigma, A), where\n",
    "    \n",
    "    x is the observation\n",
    "    mu is the location of the mean\n",
    "    sigma is the standard deviation\n",
    "    A is the amplitude of the Gaussian function.\n",
    "    \"\"\"\n",
    "    return A*exp(-(x-mu)**2/2/sigma**2)\n",
    "\n",
    "def bimodal(x,mu1,sigma1,A1,mu2,sigma2,A2):\n",
    "    return gauss(x,mu1,sigma1,A1)+gauss(x,mu2,sigma2,A2)"
   ]
  },
  {
   "cell_type": "code",
   "execution_count": 5,
   "metadata": {},
   "outputs": [],
   "source": [
    "from scipy.optimize import curve_fit"
   ]
  },
  {
   "cell_type": "markdown",
   "metadata": {},
   "source": [
    "## Bimodal distribution of cell diameters"
   ]
  },
  {
   "cell_type": "code",
   "execution_count": 6,
   "metadata": {},
   "outputs": [
    {
     "data": {
      "text/html": [
       "<div>\n",
       "<style scoped>\n",
       "    .dataframe tbody tr th:only-of-type {\n",
       "        vertical-align: middle;\n",
       "    }\n",
       "\n",
       "    .dataframe tbody tr th {\n",
       "        vertical-align: top;\n",
       "    }\n",
       "\n",
       "    .dataframe thead th {\n",
       "        text-align: right;\n",
       "    }\n",
       "</style>\n",
       "<table border=\"1\" class=\"dataframe\">\n",
       "  <thead>\n",
       "    <tr style=\"text-align: right;\">\n",
       "      <th></th>\n",
       "      <th>params</th>\n",
       "      <th>sigma</th>\n",
       "    </tr>\n",
       "  </thead>\n",
       "  <tbody>\n",
       "    <tr>\n",
       "      <th>mu1</th>\n",
       "      <td>15.433695</td>\n",
       "      <td>0.330521</td>\n",
       "    </tr>\n",
       "    <tr>\n",
       "      <th>sigma1</th>\n",
       "      <td>2.432134</td>\n",
       "      <td>0.433704</td>\n",
       "    </tr>\n",
       "    <tr>\n",
       "      <th>A1</th>\n",
       "      <td>12.875506</td>\n",
       "      <td>1.845973</td>\n",
       "    </tr>\n",
       "    <tr>\n",
       "      <th>mu2</th>\n",
       "      <td>29.133056</td>\n",
       "      <td>3.319413</td>\n",
       "    </tr>\n",
       "    <tr>\n",
       "      <th>sigma2</th>\n",
       "      <td>10.315366</td>\n",
       "      <td>3.023970</td>\n",
       "    </tr>\n",
       "    <tr>\n",
       "      <th>A2</th>\n",
       "      <td>4.118074</td>\n",
       "      <td>0.733104</td>\n",
       "    </tr>\n",
       "  </tbody>\n",
       "</table>\n",
       "</div>"
      ],
      "text/plain": [
       "           params     sigma\n",
       "mu1     15.433695  0.330521\n",
       "sigma1   2.432134  0.433704\n",
       "A1      12.875506  1.845973\n",
       "mu2     29.133056  3.319413\n",
       "sigma2  10.315366  3.023970\n",
       "A2       4.118074  0.733104"
      ]
     },
     "execution_count": 6,
     "metadata": {},
     "output_type": "execute_result"
    },
    {
     "data": {
      "image/png": "[encoded data removed]",
      "text/plain": [
       "<Figure size 576x192 with 1 Axes>"
      ]
     },
     "metadata": {
      "needs_background": "light"
     },
     "output_type": "display_data"
    }
   ],
   "source": [
    "diameters = mydata.diameter.values\n",
    "\n",
    "plt.figure(figsize=(6,2))\n",
    "mybins = np.arange(0,80,2)\n",
    "y, x, _ = plt.hist(diameters, mybins, color='C0', alpha =0.3)\n",
    "\n",
    "x=(x[1:]+x[:-1])/2 # for len(x)==len(y)\n",
    "\n",
    "expected = (15, 10, 20, 50, 20, 10)\n",
    "\n",
    "params,cov = curve_fit(bimodal,x,y,expected)\n",
    "xfit = np.linspace(0,80,200)\n",
    "\n",
    "plt.plot(xfit,bimodal(xfit,*params), color='k', lw=2)\n",
    "plt.ylabel('Observations');\n",
    "plt.xlabel('Cell diameter ($\\mu$m)');\n",
    "plt.xticks(np.arange(0,100,25));\n",
    "\n",
    "sigma = np.sqrt(np.diag(cov))\n",
    "fit_diam = pd.DataFrame(data={'params':params,'sigma':sigma},index=bimodal.__code__.co_varnames[1:])\n",
    "fit_diam"
   ]
  },
  {
   "cell_type": "markdown",
   "metadata": {},
   "source": [
    "## Bimodal distribution of cell resting membrane potential"
   ]
  },
  {
   "cell_type": "code",
   "execution_count": 7,
   "metadata": {},
   "outputs": [
    {
     "data": {
      "text/html": [
       "<div>\n",
       "<style scoped>\n",
       "    .dataframe tbody tr th:only-of-type {\n",
       "        vertical-align: middle;\n",
       "    }\n",
       "\n",
       "    .dataframe tbody tr th {\n",
       "        vertical-align: top;\n",
       "    }\n",
       "\n",
       "    .dataframe thead th {\n",
       "        text-align: right;\n",
       "    }\n",
       "</style>\n",
       "<table border=\"1\" class=\"dataframe\">\n",
       "  <thead>\n",
       "    <tr style=\"text-align: right;\">\n",
       "      <th></th>\n",
       "      <th>params</th>\n",
       "      <th>sigma</th>\n",
       "    </tr>\n",
       "  </thead>\n",
       "  <tbody>\n",
       "    <tr>\n",
       "      <th>mu1</th>\n",
       "      <td>-63.835137</td>\n",
       "      <td>1.708328</td>\n",
       "    </tr>\n",
       "    <tr>\n",
       "      <th>sigma1</th>\n",
       "      <td>2.310628</td>\n",
       "      <td>1.643544</td>\n",
       "    </tr>\n",
       "    <tr>\n",
       "      <th>A1</th>\n",
       "      <td>10.309785</td>\n",
       "      <td>6.922437</td>\n",
       "    </tr>\n",
       "    <tr>\n",
       "      <th>mu2</th>\n",
       "      <td>-28.623628</td>\n",
       "      <td>0.931478</td>\n",
       "    </tr>\n",
       "    <tr>\n",
       "      <th>sigma2</th>\n",
       "      <td>12.084117</td>\n",
       "      <td>0.954624</td>\n",
       "    </tr>\n",
       "    <tr>\n",
       "      <th>A2</th>\n",
       "      <td>13.853369</td>\n",
       "      <td>0.925939</td>\n",
       "    </tr>\n",
       "  </tbody>\n",
       "</table>\n",
       "</div>"
      ],
      "text/plain": [
       "           params     sigma\n",
       "mu1    -63.835137  1.708328\n",
       "sigma1   2.310628  1.643544\n",
       "A1      10.309785  6.922437\n",
       "mu2    -28.623628  0.931478\n",
       "sigma2  12.084117  0.954624\n",
       "A2      13.853369  0.925939"
      ]
     },
     "execution_count": 7,
     "metadata": {},
     "output_type": "execute_result"
    },
    {
     "data": {
      "image/png": "[encoded data removed]",
      "text/plain": [
       "<Figure size 576x192 with 1 Axes>"
      ]
     },
     "metadata": {
      "needs_background": "light"
     },
     "output_type": "display_data"
    }
   ],
   "source": [
    "vrest = mydata.Vmb.values\n",
    "\n",
    "plt.figure(figsize=(6,2))\n",
    "mybins = np.arange(-80,10,5)\n",
    "y, x, _ = plt.hist(vrest, mybins, color='C0', alpha =0.3)\n",
    "\n",
    "x=(x[1:]+x[:-1])/2 # for len(x)==len(y)\n",
    "\n",
    "expected = (-70, 5, 2, -20, 10, 10)\n",
    "\n",
    "params,cov = curve_fit(bimodal,x,y,expected)\n",
    "xfit = np.linspace(-80, 10,200)\n",
    "\n",
    "plt.plot(xfit,bimodal(xfit,*params), color='k', lw=2);\n",
    "plt.ylabel('Observations');\n",
    "plt.xlabel('Resting membrane potential (mV)');\n",
    "\n",
    "sigma = np.sqrt(np.diag(cov))\n",
    "fit_vrest = pd.DataFrame(data={'params':params,'sigma':sigma},index=bimodal.__code__.co_varnames[1:])\n",
    "fit_vrest"
   ]
  },
  {
   "cell_type": "markdown",
   "metadata": {},
   "source": [
    "## Plot all together"
   ]
  },
  {
   "cell_type": "code",
   "execution_count": 8,
   "metadata": {},
   "outputs": [
    {
     "data": {
      "text/plain": [
       "(15.433694685495713, -63.835136582515055)"
      ]
     },
     "execution_count": 8,
     "metadata": {},
     "output_type": "execute_result"
    }
   ],
   "source": [
    "fit_diam.params.mu1, fit_vrest.params.mu1"
   ]
  },
  {
   "cell_type": "code",
   "execution_count": 9,
   "metadata": {},
   "outputs": [
    {
     "data": {
      "image/png": "[encoded data removed]",
      "text/plain": [
       "<Figure size 384x384 with 3 Axes>"
      ]
     },
     "metadata": {
      "needs_background": "light"
     },
     "output_type": "display_data"
    }
   ],
   "source": [
    "grid = plt.GridSpec(5,5, wspace= 0.05, hspace = 0.05)\n",
    "fig = plt.figure(figsize=(4,4))\n",
    "\n",
    "# scatter plot\n",
    "dots = fig.add_subplot(grid[1:5, 0:4])\n",
    "mymaks = np.isnan(mydata.Vmb.values)\n",
    "y = np.ma.array(mydata.Vmb.values, mask = mymaks).compressed()\n",
    "x = np.ma.array(mydata.diameter.values, mask = mymaks).compressed()\n",
    "# centroid for \n",
    "dots.scatter(x,y,s=4, color='k')\n",
    "mymarker = dict(markersize = 12, color='red', alpha = 0.5)\n",
    "dots.plot(fit_diam.params.mu1,fit_vrest.params.mu2, marker='X', **mymarker)\n",
    "dots.plot(fit_diam.params.mu2,fit_vrest.params.mu1, marker='X', **mymarker)\n",
    "\n",
    "dots.set_yticks(np.arange(-80,10,20));\n",
    "dots.set_xticks(np.arange(0,100,25));\n",
    "dots.set_xlim(0,80)\n",
    "dots.set_xlabel('Cell diameter ($\\mu$m)', fontsize=12);\n",
    "dots.set_ylim(-80, 0)\n",
    "dots.set_ylabel('Membrane potential (mV)', fontsize=12)\n",
    "myparams = dict(color='gray', linestyle='-.', lw=1)\n",
    "dots.hlines(fit_vrest.params.mu1, xmin = fit_diam.params.mu2, xmax = 80, **myparams)\n",
    "dots.hlines(fit_vrest.params.mu2, xmin = fit_diam.params.mu1, xmax = 80, **myparams)\n",
    "dots.vlines(fit_diam.params.mu1, ymin = 0, ymax = fit_vrest.params.mu2, **myparams)\n",
    "dots.vlines(fit_diam.params.mu2, ymin = 0, ymax = fit_vrest.params.mu1,**myparams)\n",
    "\n",
    "# up histogram\n",
    "up = fig.add_subplot(grid[0, 0:4])\n",
    "mybins = np.arange(0,80,3)\n",
    "y, x, _ = up.hist(diameters, mybins, color='C0', alpha =0.3)\n",
    "x=(x[1:]+x[:-1])/2 # for len(x)==len(y)\n",
    "expected = (15, 10, 20, 70, 20, 10)\n",
    "\n",
    "params,cov = curve_fit(bimodal,x,y,expected)\n",
    "xfit = np.linspace(0,80,200)\n",
    "up.plot(xfit,bimodal(xfit,*params), color='k', lw=2)\n",
    "up.set_xticks(np.arange(0,100,25));\n",
    "up.set_xlim(0,80)\n",
    "up.axis('off')\n",
    "\n",
    "# left histogram\n",
    "left = fig.add_subplot(grid[1:5,4:5])\n",
    "mybins = np.arange(-80,10,5)\n",
    "y, x, _ = left.hist(vrest, mybins, color='C0', alpha =0.3, orientation='horizontal')\n",
    "x=(x[1:]+x[:-1])/2 # for len(x)==len(y)\n",
    "expected = (-70, 5, 2, -20, 10, 10)\n",
    "\n",
    "params,cov = curve_fit(bimodal,x,y,expected)\n",
    "xfit = np.linspace(-80, 0,200)\n",
    "left.plot(bimodal(xfit,*params), xfit, color='k', lw=2);\n",
    "#left.set_xticks(np.arange(0,100,25));\n",
    "left.set_ylim(-80,0);\n",
    "left.axis('off');\n",
    "\n"
   ]
  },
  {
   "cell_type": "markdown",
   "metadata": {},
   "source": [
    "# Cluster with two centroids "
   ]
  },
  {
   "cell_type": "code",
   "execution_count": 10,
   "metadata": {},
   "outputs": [],
   "source": [
    "from sklearn.preprocessing import StandardScaler\n",
    "from sklearn.cluster import KMeans"
   ]
  },
  {
   "cell_type": "code",
   "execution_count": 11,
   "metadata": {},
   "outputs": [],
   "source": [
    "myscaler = StandardScaler()\n",
    "z_score = myscaler.fit_transform(mydata)"
   ]
  },
  {
   "cell_type": "code",
   "execution_count": 12,
   "metadata": {},
   "outputs": [
    {
     "data": {
      "text/plain": [
       "(array([ 25.67656951, -34.29449021]), array([12.06188709, 15.82171801]))"
      ]
     },
     "execution_count": 12,
     "metadata": {},
     "output_type": "execute_result"
    }
   ],
   "source": [
    "myscaler.mean_, myscaler.scale_"
   ]
  },
  {
   "cell_type": "code",
   "execution_count": 13,
   "metadata": {},
   "outputs": [],
   "source": [
    "cfs = KMeans(n_clusters=2).fit(z_score)"
   ]
  },
  {
   "cell_type": "code",
   "execution_count": 14,
   "metadata": {},
   "outputs": [],
   "source": [
    "# Add groups and colors\n",
    "mydata['kgroup'] = cfs.labels_\n",
    "\n",
    "\n",
    "idx_up   = np.where(cfs.labels_ == cfs.labels_[np.argmax(mydata.Vmb.values)])\n",
    "idx_down = np.where(cfs.labels_ == cfs.labels_[np.argmin(mydata.Vmb.values)])[0]\n",
    "\n",
    "myblue = '#55a0fb'\n",
    "myred = '#f94040'\n",
    "\n",
    "# assign color according to index (up is blue, down in red)\n",
    "mydata['kcolor'] = myblue\n",
    "red_idx = mydata.iloc[idx_down].index\n",
    "mydata.loc[red_idx, 'kcolor'] = myred"
   ]
  },
  {
   "cell_type": "code",
   "execution_count": 15,
   "metadata": {},
   "outputs": [],
   "source": [
    "from scipy.spatial.distance import cdist\n",
    "\n",
    "def plot_radii(mykmeans, X, mycolors, ax = None):\n",
    "    \"\"\"\n",
    "    Plots k-centroids from a kmeans model\n",
    "    \n",
    "    Arguments\n",
    "    ---------\n",
    "    mykmeans (Kmeans object)\n",
    "        (sklearn.sklearn.cluster.Kmeans model)\n",
    "    \n",
    "    X (2D-Numpy array)\n",
    "        The observations ith the observations)\n",
    "        \n",
    "    mycolors (list)\n",
    "        a 2-element list with rgbcolors (eg., ['#55a0fb', '#f94040'])\n",
    "    \n",
    "    ax (an axis object)\n",
    "    \"\"\"\n",
    "    # plot the input data\n",
    "    ax = ax or plt.gca()\n",
    "    \n",
    "    labels = mykmeans.labels_ # read labels\n",
    "\n",
    "    centers = myscaler.inverse_transform(mykmeans.cluster_centers_) # centroids corrected for normalization!\n",
    "    radii = [cdist(X[labels == i], [center]).max() for i, center in enumerate(centers)]\n",
    "    \n",
    "    \n",
    "    for center, r , mycolor in zip(centers, radii, mycolors):\n",
    "        x,y = center\n",
    "        print(f'center: {x,y}, radius: {r:2.4f}, color: {mycolor}')\n",
    "        \n",
    "        mycircle = plt.Circle((x,y), r, color= mycolor, lw=2, alpha=0.15, zorder=1, fill=1)\n",
    "        ax.add_patch(mycircle)\n",
    "        ax.plot(x,y, marker = 'P', color = mycolor, markersize =10, alpha= .5)"
   ]
  },
  {
   "cell_type": "code",
   "execution_count": 16,
   "metadata": {},
   "outputs": [
    {
     "name": "stdout",
     "output_type": "stream",
     "text": [
      "center: (41.27397910714286, -54.461260714285714), radius: 23.9861, color: #f94040\n",
      "center: (19.15824908656716, -25.866586119402985), radius: 19.1829, color: #55a0fb\n"
     ]
    },
    {
     "data": {
      "image/png": "[encoded data removed]",
      "text/plain": [
       "<Figure size 768x384 with 2 Axes>"
      ]
     },
     "metadata": {
      "needs_background": "light"
     },
     "output_type": "display_data"
    }
   ],
   "source": [
    "fig, ax = plt.subplots(1,2, figsize = (8,4))\n",
    "fig.tight_layout()\n",
    "\n",
    "ax[0].scatter(mydata.diameter, mydata.Vmb, c = mydata.kcolor, s = 20)\n",
    "\n",
    "plot_radii(mykmeans = cfs, X = mydata.values[:,0:2], mycolors=[myred, myblue], ax=ax[1])\n",
    "ax[1].scatter(mydata.diameter, mydata.Vmb, c = mydata.kcolor, s = 20)\n",
    "\n",
    "for myax in ax:\n",
    "    myax.set_xlabel(\"Cell diameter ($\\mu$m)\");\n",
    "    myax.set_ylabel('Membrane potential (mV)');\n",
    "    myax.set_yticks(np.arange(-80,10,20));\n",
    "    myax.set_xticks(np.arange(0,100,25));\n",
    "#plt.savefig('./figures/K-means.tiff', dpi = 300, bbox_inches='tight')"
   ]
  },
  {
   "cell_type": "code",
   "execution_count": 17,
   "metadata": {},
   "outputs": [
    {
     "data": {
      "text/html": [
       "<div>\n",
       "<style scoped>\n",
       "    .dataframe tbody tr th:only-of-type {\n",
       "        vertical-align: middle;\n",
       "    }\n",
       "\n",
       "    .dataframe tbody tr th {\n",
       "        vertical-align: top;\n",
       "    }\n",
       "\n",
       "    .dataframe thead th {\n",
       "        text-align: right;\n",
       "    }\n",
       "</style>\n",
       "<table border=\"1\" class=\"dataframe\">\n",
       "  <thead>\n",
       "    <tr style=\"text-align: right;\">\n",
       "      <th></th>\n",
       "      <th>diameter</th>\n",
       "      <th>Vmb</th>\n",
       "      <th>kgroup</th>\n",
       "      <th>kcolor</th>\n",
       "    </tr>\n",
       "    <tr>\n",
       "      <th>uid</th>\n",
       "      <th></th>\n",
       "      <th></th>\n",
       "      <th></th>\n",
       "      <th></th>\n",
       "    </tr>\n",
       "  </thead>\n",
       "  <tbody>\n",
       "    <tr>\n",
       "      <th>Y79_000</th>\n",
       "      <td>20.89430</td>\n",
       "      <td>-27.6512</td>\n",
       "      <td>1</td>\n",
       "      <td>#55a0fb</td>\n",
       "    </tr>\n",
       "    <tr>\n",
       "      <th>Y79_001</th>\n",
       "      <td>16.85182</td>\n",
       "      <td>-24.8687</td>\n",
       "      <td>1</td>\n",
       "      <td>#55a0fb</td>\n",
       "    </tr>\n",
       "    <tr>\n",
       "      <th>Y79_002</th>\n",
       "      <td>17.95220</td>\n",
       "      <td>-38.0629</td>\n",
       "      <td>1</td>\n",
       "      <td>#55a0fb</td>\n",
       "    </tr>\n",
       "    <tr>\n",
       "      <th>Y79_003</th>\n",
       "      <td>15.81813</td>\n",
       "      <td>-12.6591</td>\n",
       "      <td>1</td>\n",
       "      <td>#55a0fb</td>\n",
       "    </tr>\n",
       "    <tr>\n",
       "      <th>Y79_004</th>\n",
       "      <td>16.68500</td>\n",
       "      <td>-36.0233</td>\n",
       "      <td>1</td>\n",
       "      <td>#55a0fb</td>\n",
       "    </tr>\n",
       "  </tbody>\n",
       "</table>\n",
       "</div>"
      ],
      "text/plain": [
       "         diameter      Vmb  kgroup   kcolor\n",
       "uid                                        \n",
       "Y79_000  20.89430 -27.6512       1  #55a0fb\n",
       "Y79_001  16.85182 -24.8687       1  #55a0fb\n",
       "Y79_002  17.95220 -38.0629       1  #55a0fb\n",
       "Y79_003  15.81813 -12.6591       1  #55a0fb\n",
       "Y79_004  16.68500 -36.0233       1  #55a0fb"
      ]
     },
     "execution_count": 17,
     "metadata": {},
     "output_type": "execute_result"
    }
   ],
   "source": [
    "mydata.head()"
   ]
  },
  {
   "cell_type": "code",
   "execution_count": 18,
   "metadata": {},
   "outputs": [],
   "source": [
    "mydata.to_csv('./DataSets/Kmeans_classification.csv', index='uid')"
   ]
  },
  {
   "cell_type": "markdown",
   "metadata": {},
   "source": [
    "# Calculate inertias\n",
    "\n",
    "The inertia is the sum of squared distance for each point to it's closest centroid:\n",
    "<math>\n",
    "$$ \\sum_{i = 1}^{n}{d(x_i, c_k)^2} ,$$\n",
    "</math>\n",
    "\n",
    "where $n$ is the number of points,  $c_k$ is the k-centroid, and $d()$ is the euclidian distance.\n",
    "\n",
    "To detect the minimal number of clusters, we can compute the second derivative of the inertia. Because the inertias are distances, the second derivative can be seen as acceleration, and it gives us an estimation of the largest inertias deviation versus de number of clusters."
   ]
  },
  {
   "cell_type": "code",
   "execution_count": 19,
   "metadata": {},
   "outputs": [],
   "source": [
    "inertia = list()\n",
    "for k in range(2,20):\n",
    "    clf = KMeans(n_clusters = k, init = 'k-means++').fit(z_score)\n",
    "    inertia.append( clf.inertia_)\n",
    "\n",
    "    "
   ]
  },
  {
   "cell_type": "code",
   "execution_count": 20,
   "metadata": {},
   "outputs": [
    {
     "name": "stdout",
     "output_type": "stream",
     "text": [
      "Number of optimal k-clusters: 2\n"
     ]
    },
    {
     "data": {
      "image/png": "[encoded data removed]",
      "text/plain": [
       "<Figure size 384x384 with 2 Axes>"
      ]
     },
     "metadata": {
      "needs_background": "light"
     },
     "output_type": "display_data"
    }
   ],
   "source": [
    "idx = np.arange(1, len(inertia) + 1)\n",
    "\n",
    "fig, ax = plt.subplots(2, 1, figsize=(4,4), sharex=True)\n",
    "\n",
    "ax[0].plot(idx, inertia, '-', color='gray', alpha = 0.4)\n",
    "ax[0].plot(idx, inertia, 'ko', ms=6)\n",
    "ax[0].set_xticks([1,2,3,4,5, 10, 15])\n",
    "\n",
    "ax[0].set_ylabel('Inertia');\n",
    "\n",
    "acceleration = np.diff(np.sqrt(inertia), 2)  # 2nd derivative of the distances\n",
    "\n",
    "ax[1].plot(idx[:-2] + 1, acceleration, 'g-', ms=8)\n",
    "ax[1].set_ylabel('Acceleration')\n",
    "ax[1].set_xlabel('K-clusters')\n",
    "\n",
    "\n",
    "# calculate clusters\n",
    "k = acceleration.argmax() + 2  # if idx 0 is the max of this we want 2 clusters\n",
    "ax[0].vlines(x = k, ymin = 0, ymax = inertia[k-1], color='brown', linestyle='--')\n",
    "ax[1].vlines(x = k, ymin = 0, ymax = acceleration[k-2], color='gray', linestyle='--', alpha=0.7)\n",
    "\n",
    "print(f'Number of optimal k-clusters: {k}')\n",
    "#plt.savefig('./figures/Inertia.tiff', dpi = 300, bbox_inches='tight')"
   ]
  },
  {
   "cell_type": "code",
   "execution_count": null,
   "metadata": {},
   "outputs": [],
   "source": []
  }
 ],
 "metadata": {
  "kernelspec": {
   "display_name": "Python 3",
   "language": "python",
   "name": "python3"
  },
  "language_info": {
   "codemirror_mode": {
    "name": "ipython",
    "version": 3
   },
   "file_extension": ".py",
   "mimetype": "text/x-python",
   "name": "python",
   "nbconvert_exporter": "python",
   "pygments_lexer": "ipython3",
   "version": "3.7.6"
  },
  "toc": {
   "base_numbering": 1,
   "nav_menu": {},
   "number_sections": true,
   "sideBar": true,
   "skip_h1_title": false,
   "title_cell": "Table of Contents",
   "title_sidebar": "Contents",
   "toc_cell": false,
   "toc_position": {},
   "toc_section_display": true,
   "toc_window_display": true
  }
 },
 "nbformat": 4,
 "nbformat_minor": 2
}
