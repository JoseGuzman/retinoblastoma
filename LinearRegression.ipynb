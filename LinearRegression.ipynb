{
 "cells": [
  {
   "cell_type": "code",
   "execution_count": 1,
   "metadata": {},
   "outputs": [
    {
     "name": "stdout",
     "output_type": "stream",
     "text": [
      "Populating the interactive namespace from numpy and matplotlib\n"
     ]
    }
   ],
   "source": [
    "%pylab inline\n",
    "from matplotlib.pyplot import style\n",
    "import matplotlib.pyplot as plt\n",
    "# custom plots from minibrain\n",
    "style.use('https://raw.githubusercontent.com/JoseGuzman/minibrain/master/minibrain/paper.mplstyle')\n",
    "\n",
    "import pandas as pd"
   ]
  },
  {
   "cell_type": "markdown",
   "metadata": {},
   "source": [
    "# Load Data"
   ]
  },
  {
   "cell_type": "code",
   "execution_count": 2,
   "metadata": {},
   "outputs": [
    {
     "name": "stdout",
     "output_type": "stream",
     "text": [
      "165 total observations\n"
     ]
    },
    {
     "data": {
      "text/html": [
       "<div>\n",
       "<style scoped>\n",
       "    .dataframe tbody tr th:only-of-type {\n",
       "        vertical-align: middle;\n",
       "    }\n",
       "\n",
       "    .dataframe tbody tr th {\n",
       "        vertical-align: top;\n",
       "    }\n",
       "\n",
       "    .dataframe thead th {\n",
       "        text-align: right;\n",
       "    }\n",
       "</style>\n",
       "<table border=\"1\" class=\"dataframe\">\n",
       "  <thead>\n",
       "    <tr style=\"text-align: right;\">\n",
       "      <th></th>\n",
       "      <th>diameter</th>\n",
       "      <th>Vmb</th>\n",
       "    </tr>\n",
       "  </thead>\n",
       "  <tbody>\n",
       "    <tr>\n",
       "      <th>0</th>\n",
       "      <td>19.9340</td>\n",
       "      <td>NaN</td>\n",
       "    </tr>\n",
       "    <tr>\n",
       "      <th>1</th>\n",
       "      <td>20.8943</td>\n",
       "      <td>-27.6512</td>\n",
       "    </tr>\n",
       "    <tr>\n",
       "      <th>2</th>\n",
       "      <td>16.9050</td>\n",
       "      <td>NaN</td>\n",
       "    </tr>\n",
       "    <tr>\n",
       "      <th>3</th>\n",
       "      <td>NaN</td>\n",
       "      <td>NaN</td>\n",
       "    </tr>\n",
       "    <tr>\n",
       "      <th>4</th>\n",
       "      <td>18.9130</td>\n",
       "      <td>NaN</td>\n",
       "    </tr>\n",
       "  </tbody>\n",
       "</table>\n",
       "</div>"
      ],
      "text/plain": [
       "   diameter      Vmb\n",
       "0   19.9340      NaN\n",
       "1   20.8943 -27.6512\n",
       "2   16.9050      NaN\n",
       "3       NaN      NaN\n",
       "4   18.9130      NaN"
      ]
     },
     "execution_count": 2,
     "metadata": {},
     "output_type": "execute_result"
    }
   ],
   "source": [
    "mydata = pd.read_csv('./DataSets/cell_data.csv')\n",
    "print(f'{mydata.shape[0]} total observations')\n",
    "mydata.head()"
   ]
  },
  {
   "cell_type": "code",
   "execution_count": 3,
   "metadata": {},
   "outputs": [
    {
     "name": "stdout",
     "output_type": "stream",
     "text": [
      "95 non-NaN observations\n"
     ]
    }
   ],
   "source": [
    "# remove NaN\n",
    "mydata.dropna(thresh=2, inplace=True)\n",
    "print(f'{len(mydata)} non-NaN observations')"
   ]
  },
  {
   "cell_type": "markdown",
   "metadata": {},
   "source": [
    "# Perform linear regression"
   ]
  },
  {
   "cell_type": "code",
   "execution_count": 4,
   "metadata": {},
   "outputs": [],
   "source": [
    "from scipy.stats import linregress, sem\n",
    "from scipy.stats import t as T"
   ]
  },
  {
   "cell_type": "code",
   "execution_count": 5,
   "metadata": {},
   "outputs": [],
   "source": [
    "def plot_linregress(xdata, ydata, color = None, label = None, ax = None):\n",
    "    \"\"\"\n",
    "    plots the linear fit together with the two-side 95% confidence interval.\n",
    "    For 95% confident interval see:\n",
    "    https://tomholderness.wordpress.com/2013/01/10/confidence_intervals/\n",
    "    \n",
    "    Arguments:\n",
    "    ----------\n",
    "    xdata: 1D NumPy array\n",
    "    ydata: 1D NumPy array\n",
    "    ax: axis matplotlib object\n",
    "    Returns:\n",
    "    --------\n",
    "    An axis object and a dictionary with linear regression results.\n",
    "    \"\"\"\n",
    "    if ax is None:\n",
    "        ax = plt.gca() # if not given, get current axis\n",
    "\n",
    "    m, a, rval, pval, stderr = linregress(xdata, ydata)\n",
    "        \n",
    "    # linear function\n",
    "    f = lambda x: a + m*x\n",
    "    xfit = np.linspace(xdata.min(), xdata.max(), 100)\n",
    "    yfit = f(xfit)\n",
    "    \n",
    "    y_err = ydata - f(xdata) # residuals\n",
    "    SSE = np.power(y_err,2).sum() # sum of squared errors\n",
    "\n",
    "    # calculate confident intervals\n",
    "    mu = xdata.mean()\n",
    "    n = xdata.size\n",
    "    # for a 2-tailed 95% confident interval enter 0.975\n",
    "    tstat = T.ppf(0.975, n-1) \n",
    "\n",
    "    pow2 = lambda x: np.power(x,2)\n",
    "    confs = tstat*np.sqrt( (SSE/(n-2)) * (1.0/n +\\\n",
    "        (pow2(xfit-mu)/ ((np.sum(pow2(xdata)) -\n",
    "        n*(pow2(mu)))))))\n",
    "\n",
    "    lower_conf = yfit - abs(confs)\n",
    "    upper_conf = yfit + abs(confs)\n",
    "    \n",
    "    ax.set_title(label, color = color)\n",
    "    ax.plot(xdata, ydata, 'o', color = color, markersize=4)\n",
    "    ax.plot(xfit, yfit, lw=2, color = color)\n",
    "    ax.plot(xfit, upper_conf, '--', lw=1, color = color)\n",
    "    ax.plot(xfit, lower_conf, '--', lw=1, color = color)\n",
    "    ax.fill_between(xfit, upper_conf, lower_conf, color = color,  alpha =.1)\n",
    "\n",
    "    # axis\n",
    "    ax.spines['right'].set_visible(False)\n",
    "    ax.spines['top'].set_visible(False)\n",
    "    ax.tick_params(axis='both', direction='out')\n",
    "    ax.get_xaxis().tick_bottom() # remove unneed ticks\n",
    "    ax.get_yaxis().tick_left()\n",
    "\n",
    "    # statistics\n",
    "    stats = ( label, np.mean(ydata), sem(ydata), len(ydata) )\n",
    "    print('%s = %2.4f +/- %2.4f, n = %d' %stats)\n",
    "\n",
    "    infostats = {\n",
    "        'Slope': m, \n",
    "        'Intercept': a, \n",
    "        'Correlation coef': rval, \n",
    "        'P-value': pval,\n",
    "        'Standard error': stderr,\n",
    "        'Samples': n\n",
    "    }\n",
    "\n",
    "    return(ax, infostats)"
   ]
  },
  {
   "cell_type": "code",
   "execution_count": 6,
   "metadata": {},
   "outputs": [
    {
     "name": "stdout",
     "output_type": "stream",
     "text": [
      "None = -34.2945 +/- 1.6319, n = 95\n",
      "{'Slope': -1.0939697024010062, 'Intercept': -6.205101100962448, 'Correlation coef': -0.8340016567712062, 'P-value': 9.468844997320522e-26, 'Standard error': 0.07504964551616898, 'Samples': 95}\n"
     ]
    },
    {
     "data": {
      "image/png": "[encoded data removed]",
      "text/plain": [
       "<Figure size 288x288 with 1 Axes>"
      ]
     },
     "metadata": {
      "needs_background": "light"
     },
     "output_type": "display_data"
    }
   ],
   "source": [
    "fig, ax = plt.subplots(figsize=(4,4));\n",
    "ax, info = plot_linregress(mydata.diameter, mydata.Vmb, color = 'royalblue', label = None, ax = ax)\n",
    "ax.set_xlim(left=0, right = 80);\n",
    "ax.set_xticks(np.arange(0,100,25));\n",
    "ax.set_xlabel('Cell diameter ($\\mu$m)')\n",
    "\n",
    "\n",
    "ax.set_ylim(bottom=-80,  top=0);\n",
    "ax.set_yticks(np.arange(-80,10,20));\n",
    "ax.set_ylabel('Membrane potential (mV)');\n",
    "print(info)"
   ]
  },
  {
   "cell_type": "code",
   "execution_count": null,
   "metadata": {},
   "outputs": [],
   "source": []
  }
 ],
 "metadata": {
  "kernelspec": {
   "display_name": "Python 3",
   "language": "python",
   "name": "python3"
  },
  "language_info": {
   "codemirror_mode": {
    "name": "ipython",
    "version": 3
   },
   "file_extension": ".py",
   "mimetype": "text/x-python",
   "name": "python",
   "nbconvert_exporter": "python",
   "pygments_lexer": "ipython3",
   "version": "3.7.0"
  },
  "toc": {
   "base_numbering": 1,
   "nav_menu": {},
   "number_sections": true,
   "sideBar": true,
   "skip_h1_title": false,
   "title_cell": "Table of Contents",
   "title_sidebar": "Contents",
   "toc_cell": false,
   "toc_position": {},
   "toc_section_display": true,
   "toc_window_display": false
  }
 },
 "nbformat": 4,
 "nbformat_minor": 2
}
