{
 "cells": [
  {
   "cell_type": "markdown",
   "id": "f5d2565a",
   "metadata": {},
   "source": [
    "# Bimodal distribution"
   ]
  },
  {
   "cell_type": "code",
   "execution_count": 1,
   "id": "0e417278",
   "metadata": {},
   "outputs": [
    {
     "name": "stdout",
     "output_type": "stream",
     "text": [
      "Populating the interactive namespace from numpy and matplotlib\n"
     ]
    }
   ],
   "source": [
    "%pylab inline\n",
    "\n",
    "from matplotlib.pyplot import style\n",
    "import matplotlib.pyplot as plt\n",
    "\n",
    "# use custom plots from minibrain\n",
    "style.use('https://raw.githubusercontent.com/JoseGuzman/minibrain/master/minibrain/paper.mplstyle')\n",
    "\n",
    "import pandas as pd"
   ]
  },
  {
   "cell_type": "markdown",
   "id": "ec655612",
   "metadata": {},
   "source": [
    "# Load data"
   ]
  },
  {
   "cell_type": "code",
   "execution_count": 2,
   "id": "4631a3b0",
   "metadata": {},
   "outputs": [
    {
     "name": "stdout",
     "output_type": "stream",
     "text": [
      "2763 observations\n"
     ]
    },
    {
     "data": {
      "text/html": [
       "<div>\n",
       "<style scoped>\n",
       "    .dataframe tbody tr th:only-of-type {\n",
       "        vertical-align: middle;\n",
       "    }\n",
       "\n",
       "    .dataframe tbody tr th {\n",
       "        vertical-align: top;\n",
       "    }\n",
       "\n",
       "    .dataframe thead th {\n",
       "        text-align: right;\n",
       "    }\n",
       "</style>\n",
       "<table border=\"1\" class=\"dataframe\">\n",
       "  <thead>\n",
       "    <tr style=\"text-align: right;\">\n",
       "      <th></th>\n",
       "      <th>diameter</th>\n",
       "    </tr>\n",
       "  </thead>\n",
       "  <tbody>\n",
       "    <tr>\n",
       "      <th>count</th>\n",
       "      <td>2763.000000</td>\n",
       "    </tr>\n",
       "    <tr>\n",
       "      <th>mean</th>\n",
       "      <td>16.531981</td>\n",
       "    </tr>\n",
       "    <tr>\n",
       "      <th>std</th>\n",
       "      <td>5.206652</td>\n",
       "    </tr>\n",
       "    <tr>\n",
       "      <th>min</th>\n",
       "      <td>7.146955</td>\n",
       "    </tr>\n",
       "    <tr>\n",
       "      <th>25%</th>\n",
       "      <td>13.657391</td>\n",
       "    </tr>\n",
       "    <tr>\n",
       "      <th>50%</th>\n",
       "      <td>14.884002</td>\n",
       "    </tr>\n",
       "    <tr>\n",
       "      <th>75%</th>\n",
       "      <td>17.024398</td>\n",
       "    </tr>\n",
       "    <tr>\n",
       "      <th>max</th>\n",
       "      <td>59.313876</td>\n",
       "    </tr>\n",
       "  </tbody>\n",
       "</table>\n",
       "</div>"
      ],
      "text/plain": [
       "          diameter\n",
       "count  2763.000000\n",
       "mean     16.531981\n",
       "std       5.206652\n",
       "min       7.146955\n",
       "25%      13.657391\n",
       "50%      14.884002\n",
       "75%      17.024398\n",
       "max      59.313876"
      ]
     },
     "execution_count": 2,
     "metadata": {},
     "output_type": "execute_result"
    }
   ],
   "source": [
    "mydata = pd.read_csv('./DataSets/Y79_diameter.csv')\n",
    "\n",
    "print(f'{mydata.shape[0]} observations')\n",
    "mydata.describe()"
   ]
  },
  {
   "cell_type": "markdown",
   "id": "b8b7b8dc",
   "metadata": {},
   "source": [
    "# Bimodal distribution of all observations"
   ]
  },
  {
   "cell_type": "code",
   "execution_count": 3,
   "id": "7afa156c",
   "metadata": {},
   "outputs": [],
   "source": [
    "from scipy.optimize import curve_fit"
   ]
  },
  {
   "cell_type": "code",
   "execution_count": 4,
   "id": "6e1a5411",
   "metadata": {},
   "outputs": [],
   "source": [
    "# Define gaussian mixture\n",
    "def gauss(x,mu,sigma,A):\n",
    "    \"\"\"\n",
    "    Solves the Gaussian function of the form:\n",
    "    f(x; mu, sigma, A), where\n",
    "    \n",
    "    x is the observation\n",
    "    mu is the location of the mean\n",
    "    sigma is the standard deviation\n",
    "    A is the amplitude of the Gaussian function.\n",
    "    \"\"\"\n",
    "    return A*exp(-(x-mu)**2/2/sigma**2)\n",
    "\n",
    "def bimodal(x,mu1,sigma1,A1,mu2,sigma2,A2):\n",
    "    return gauss(x,mu1,sigma1,A1)+gauss(x,mu2,sigma2,A2)"
   ]
  },
  {
   "cell_type": "code",
   "execution_count": 5,
   "id": "b8d206b4",
   "metadata": {},
   "outputs": [],
   "source": [
    "myblue = '#55a0fb'\n",
    "myred = '#f94040'"
   ]
  },
  {
   "cell_type": "code",
   "execution_count": 6,
   "id": "395f4280",
   "metadata": {},
   "outputs": [
    {
     "data": {
      "text/html": [
       "<div>\n",
       "<style scoped>\n",
       "    .dataframe tbody tr th:only-of-type {\n",
       "        vertical-align: middle;\n",
       "    }\n",
       "\n",
       "    .dataframe tbody tr th {\n",
       "        vertical-align: top;\n",
       "    }\n",
       "\n",
       "    .dataframe thead th {\n",
       "        text-align: right;\n",
       "    }\n",
       "</style>\n",
       "<table border=\"1\" class=\"dataframe\">\n",
       "  <thead>\n",
       "    <tr style=\"text-align: right;\">\n",
       "      <th></th>\n",
       "      <th>params</th>\n",
       "      <th>sigma</th>\n",
       "    </tr>\n",
       "  </thead>\n",
       "  <tbody>\n",
       "    <tr>\n",
       "      <th>mu1</th>\n",
       "      <td>21.805595</td>\n",
       "      <td>1.698167</td>\n",
       "    </tr>\n",
       "    <tr>\n",
       "      <th>sigma1</th>\n",
       "      <td>-5.368227</td>\n",
       "      <td>1.453279</td>\n",
       "    </tr>\n",
       "    <tr>\n",
       "      <th>A1</th>\n",
       "      <td>100.845700</td>\n",
       "      <td>13.239578</td>\n",
       "    </tr>\n",
       "    <tr>\n",
       "      <th>mu2</th>\n",
       "      <td>14.312376</td>\n",
       "      <td>0.050227</td>\n",
       "    </tr>\n",
       "    <tr>\n",
       "      <th>sigma2</th>\n",
       "      <td>1.720839</td>\n",
       "      <td>0.077657</td>\n",
       "    </tr>\n",
       "    <tr>\n",
       "      <th>A2</th>\n",
       "      <td>952.710459</td>\n",
       "      <td>36.109420</td>\n",
       "    </tr>\n",
       "  </tbody>\n",
       "</table>\n",
       "</div>"
      ],
      "text/plain": [
       "            params      sigma\n",
       "mu1      21.805595   1.698167\n",
       "sigma1   -5.368227   1.453279\n",
       "A1      100.845700  13.239578\n",
       "mu2      14.312376   0.050227\n",
       "sigma2    1.720839   0.077657\n",
       "A2      952.710459  36.109420"
      ]
     },
     "execution_count": 6,
     "metadata": {},
     "output_type": "execute_result"
    },
    {
     "data": {
      "image/png": "[encoded data removed]",
      "text/plain": [
       "<Figure size 576x288 with 1 Axes>"
      ]
     },
     "metadata": {
      "needs_background": "light"
     },
     "output_type": "display_data"
    }
   ],
   "source": [
    "diameters = mydata.diameter.values\n",
    "\n",
    "plt.figure(figsize=(6,3))\n",
    "mybins = np.arange(0,60,2)\n",
    "y, x, _ = plt.hist(diameters, mybins, color='k', histtype= 'bar', rwidth=.85, alpha =0.25)\n",
    "\n",
    "x=(x[1:]+x[:-1])/2 # for len(x)==len(y)\n",
    "\n",
    "expected = (15, 10, 2, 50, 29, 10)\n",
    "\n",
    "params,cov = curve_fit(bimodal,x,y,expected)\n",
    "xfit = np.linspace(0,60,200)\n",
    "\n",
    "\n",
    "plt.plot(xfit,bimodal(xfit,*params), color='k', lw=2, alpha=0.75)\n",
    "plt.ylabel('Observations');\n",
    "plt.xlabel('Cell diameter ($\\mu$m)');\n",
    "plt.xticks(np.arange(0,61,10));\n",
    "plt.xlim(xmin=0, xmax=50)\n",
    "plt.ylim(top=1150)\n",
    "\n",
    "# Plot Gaussians\n",
    "\n",
    "sigma = np.sqrt(np.diag(cov))\n",
    "fit_diam = pd.DataFrame(data={'params':params,'sigma':sigma},index=bimodal.__code__.co_varnames[1:])\n",
    "myparams = fit_diam.params\n",
    "plt.plot(xfit, gauss(xfit,mu=myparams.mu2,sigma=myparams.sigma2,A=myparams.A2), color=myblue)\n",
    "plt.plot(xfit, gauss(xfit,mu=myparams.mu1,sigma=myparams.sigma1,A=myparams.A1), color=myred)\n",
    "fit_diam"
   ]
  },
  {
   "cell_type": "code",
   "execution_count": null,
   "id": "108e6037",
   "metadata": {},
   "outputs": [],
   "source": []
  }
 ],
 "metadata": {
  "kernelspec": {
   "display_name": "Python 3",
   "language": "python",
   "name": "python3"
  },
  "language_info": {
   "codemirror_mode": {
    "name": "ipython",
    "version": 3
   },
   "file_extension": ".py",
   "mimetype": "text/x-python",
   "name": "python",
   "nbconvert_exporter": "python",
   "pygments_lexer": "ipython3",
   "version": "3.7.6"
  },
  "toc": {
   "base_numbering": 1,
   "nav_menu": {},
   "number_sections": true,
   "sideBar": true,
   "skip_h1_title": false,
   "title_cell": "Table of Contents",
   "title_sidebar": "Contents",
   "toc_cell": false,
   "toc_position": {},
   "toc_section_display": true,
   "toc_window_display": true
  }
 },
 "nbformat": 4,
 "nbformat_minor": 5
}
